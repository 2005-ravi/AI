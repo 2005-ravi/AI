{
 "cells": [
  {
   "cell_type": "code",
   "execution_count": 1,
   "id": "f4887df2",
   "metadata": {},
   "outputs": [],
   "source": [
    "import numpy as np"
   ]
  },
  {
   "cell_type": "code",
   "execution_count": 2,
   "id": "67df7344",
   "metadata": {},
   "outputs": [
    {
     "name": "stdout",
     "output_type": "stream",
     "text": [
      "[1, 9, 8, 3]\n"
     ]
    }
   ],
   "source": [
    "mypythonlist = [1,9,8,3]\n",
    "print(mypythonlist)"
   ]
  },
  {
   "cell_type": "code",
   "execution_count": 3,
   "id": "f5ea14e9",
   "metadata": {},
   "outputs": [
    {
     "data": {
      "text/plain": [
       "array([1, 9, 8, 3])"
      ]
     },
     "execution_count": 3,
     "metadata": {},
     "output_type": "execute_result"
    }
   ],
   "source": [
    "numpy_array_from_list = np.array(mypythonlist)\n",
    "numpy_array_from_list"
   ]
  },
  {
   "cell_type": "code",
   "execution_count": 4,
   "id": "c2c4bf1f",
   "metadata": {},
   "outputs": [
    {
     "name": "stdout",
     "output_type": "stream",
     "text": [
      "[1 9 8 3]\n"
     ]
    }
   ],
   "source": [
    "a = np.array([1,9,8,3])\n",
    "print(a)"
   ]
  },
  {
   "cell_type": "code",
   "execution_count": 5,
   "id": "0b38e000",
   "metadata": {},
   "outputs": [
    {
     "name": "stdout",
     "output_type": "stream",
     "text": [
      "[11 19 18 13]\n"
     ]
    }
   ],
   "source": [
    "x = numpy_array_from_list+10\n",
    "print(x)"
   ]
  },
  {
   "cell_type": "code",
   "execution_count": 6,
   "id": "1fd6d8b0",
   "metadata": {},
   "outputs": [
    {
     "name": "stdout",
     "output_type": "stream",
     "text": [
      "(3,)\n",
      "int32\n"
     ]
    }
   ],
   "source": [
    "a  = np.array([1,2,3])\n",
    "print(a.shape)\n",
    "print(a.dtype)"
   ]
  },
  {
   "cell_type": "code",
   "execution_count": 7,
   "id": "d8565d50",
   "metadata": {},
   "outputs": [
    {
     "name": "stdout",
     "output_type": "stream",
     "text": [
      "float64\n"
     ]
    }
   ],
   "source": [
    "#### Different type\n",
    "b  = np.array([1.1,2.0,3.2])\n",
    "print(b.dtype)"
   ]
  },
  {
   "cell_type": "code",
   "execution_count": 9,
   "id": "235b61c4",
   "metadata": {},
   "outputs": [
    {
     "name": "stdout",
     "output_type": "stream",
     "text": [
      "[[1 2 3]\n",
      " [4 5 6]]\n"
     ]
    }
   ],
   "source": [
    "### 2 dimension\n",
    "c=np.array([(1,2,3),(4,5,6)])\n",
    "print(c)"
   ]
  },
  {
   "cell_type": "code",
   "execution_count": 10,
   "id": "5966d8f3",
   "metadata": {},
   "outputs": [
    {
     "name": "stdout",
     "output_type": "stream",
     "text": [
      "(2, 2, 3)\n"
     ]
    },
    {
     "data": {
      "text/plain": [
       "(2, 2, 3)"
      ]
     },
     "execution_count": 10,
     "metadata": {},
     "output_type": "execute_result"
    }
   ],
   "source": [
    "### 3 dimension\n",
    "d = np.array([\n",
    "    [[1, 2,3],\n",
    "        [4, 5, 6]],\n",
    "    [[7, 8,9],\n",
    "        [10, 11, 12]]\n",
    "])\n",
    "print(d.shape)\n",
    "(2, 2, 3)"
   ]
  },
  {
   "cell_type": "code",
   "execution_count": 11,
   "id": "5b712791",
   "metadata": {},
   "outputs": [
    {
     "name": "stdout",
     "output_type": "stream",
     "text": [
      "[[0 0]\n",
      " [0 0]]\n"
     ]
    }
   ],
   "source": [
    "import numpy as np\n",
    "x = np.zeros((2,2), dtype =np.int16)\n",
    "print(x)"
   ]
  },
  {
   "cell_type": "code",
   "execution_count": 12,
   "id": "ca8aef2e",
   "metadata": {},
   "outputs": [
    {
     "data": {
      "text/plain": [
       "array([[[1, 1, 1],\n",
       "        [1, 1, 1]]], dtype=int16)"
      ]
     },
     "execution_count": 12,
     "metadata": {},
     "output_type": "execute_result"
    }
   ],
   "source": [
    "import numpy as np\n",
    "np.ones((1,2,3), dtype = np.int16)"
   ]
  },
  {
   "cell_type": "code",
   "execution_count": 13,
   "id": "48874671",
   "metadata": {},
   "outputs": [
    {
     "name": "stdout",
     "output_type": "stream",
     "text": [
      "[[1 2 3]\n",
      " [4 5 6]]\n"
     ]
    },
    {
     "data": {
      "text/plain": [
       "array([[1, 2],\n",
       "       [3, 4],\n",
       "       [5, 6]])"
      ]
     },
     "execution_count": 13,
     "metadata": {},
     "output_type": "execute_result"
    }
   ],
   "source": [
    "import numpy as np\n",
    "e  = np.array([(1,2,3), (4,5,6)])\n",
    "print(e)\n",
    "e.reshape(3,2)"
   ]
  },
  {
   "cell_type": "code",
   "execution_count": 14,
   "id": "6efc7fab",
   "metadata": {},
   "outputs": [
    {
     "data": {
      "text/plain": [
       "array([1, 2, 3, 4, 5, 6])"
      ]
     },
     "execution_count": 14,
     "metadata": {},
     "output_type": "execute_result"
    }
   ],
   "source": [
    "e.flatten()"
   ]
  },
  {
   "cell_type": "code",
   "execution_count": 18,
   "id": "688a3625",
   "metadata": {},
   "outputs": [
    {
     "name": "stdout",
     "output_type": "stream",
     "text": [
      "horizontal append: [1 2 3 4 5 6]\n"
     ]
    }
   ],
   "source": [
    "## horizontal stack\n",
    "f = np.array([1,2,3])\n",
    "g = np.array([4,5,6])\n",
    "print('horizontal append:', np.hstack((f,g)))"
   ]
  },
  {
   "cell_type": "code",
   "execution_count": 20,
   "id": "e7de1494",
   "metadata": {},
   "outputs": [
    {
     "name": "stdout",
     "output_type": "stream",
     "text": [
      "vertically append: [[1 2 3]\n",
      " [4 5 6]]\n"
     ]
    }
   ],
   "source": [
    "## vertical append\n",
    "f = np.array([1,2,3])\n",
    "g = np.array([4,5,6])\n",
    "print('vertically append:',np.vstack((f,g)))"
   ]
  },
  {
   "cell_type": "code",
   "execution_count": 21,
   "id": "3f07df94",
   "metadata": {},
   "outputs": [
    {
     "name": "stdout",
     "output_type": "stream",
     "text": [
      "[5.08716325 5.19495577 5.22580485 5.35888964 5.69873563 4.59030675\n",
      " 5.27777636 4.78747863 4.43665677 4.52154305]\n"
     ]
    }
   ],
   "source": [
    "## Generate random nmber from normal distribution\n",
    "normal_array = np.random.normal(5, 0.5, 10)\n",
    "print(normal_array)\t\t\t"
   ]
  },
  {
   "cell_type": "code",
   "execution_count": 22,
   "id": "ac39d8f7",
   "metadata": {},
   "outputs": [
    {
     "name": "stdout",
     "output_type": "stream",
     "text": [
      "[[1. 1. 1. 1.]\n",
      " [1. 1. 1. 1.]\n",
      " [1. 1. 1. 1.]\n",
      " [1. 1. 1. 1.]]\n"
     ]
    }
   ],
   "source": [
    "A = np.matrix(np.ones((4,4)))\t\t\n",
    "np.array(A)[2]=2  #immutable\n",
    "print(A)"
   ]
  },
  {
   "cell_type": "code",
   "execution_count": 23,
   "id": "56e2f652",
   "metadata": {},
   "outputs": [
    {
     "name": "stdout",
     "output_type": "stream",
     "text": [
      "[[1. 1. 1. 1.]\n",
      " [1. 1. 1. 1.]\n",
      " [2. 2. 2. 2.]\n",
      " [1. 1. 1. 1.]]\n"
     ]
    }
   ],
   "source": [
    "np.asarray(A)[2]=2\n",
    "print(A)"
   ]
  },
  {
   "cell_type": "code",
   "execution_count": 24,
   "id": "6dc6cc4e",
   "metadata": {},
   "outputs": [
    {
     "data": {
      "text/plain": [
       "array([ 1,  2,  3,  4,  5,  6,  7,  8,  9, 10])"
      ]
     },
     "execution_count": 24,
     "metadata": {},
     "output_type": "execute_result"
    }
   ],
   "source": [
    "np.arange(1,11)\n"
   ]
  },
  {
   "cell_type": "code",
   "execution_count": 25,
   "id": "16f7d99b",
   "metadata": {},
   "outputs": [
    {
     "data": {
      "text/plain": [
       "array([ 1,  5,  9, 13])"
      ]
     },
     "execution_count": 25,
     "metadata": {},
     "output_type": "execute_result"
    }
   ],
   "source": [
    "np.arange(1,14,4)"
   ]
  },
  {
   "cell_type": "code",
   "execution_count": 26,
   "id": "502d91d8",
   "metadata": {},
   "outputs": [
    {
     "data": {
      "text/plain": [
       "array([ 1.        ,  1.47368421,  1.94736842,  2.42105263,  2.89473684,\n",
       "        3.36842105,  3.84210526,  4.31578947,  4.78947368,  5.26315789,\n",
       "        5.73684211,  6.21052632,  6.68421053,  7.15789474,  7.63157895,\n",
       "        8.10526316,  8.57894737,  9.05263158,  9.52631579, 10.        ])"
      ]
     },
     "execution_count": 26,
     "metadata": {},
     "output_type": "execute_result"
    }
   ],
   "source": [
    "import numpy as np\n",
    "np.linspace(1.0,10.0,num=20)"
   ]
  },
  {
   "cell_type": "code",
   "execution_count": 28,
   "id": "9a1721bf",
   "metadata": {},
   "outputs": [
    {
     "data": {
      "text/plain": [
       "array([1. , 1.8, 2.6, 3.4, 4.2])"
      ]
     },
     "execution_count": 28,
     "metadata": {},
     "output_type": "execute_result"
    }
   ],
   "source": [
    "np.linspace(1.0,5.0,num=5, endpoint=False)"
   ]
  },
  {
   "cell_type": "code",
   "execution_count": 29,
   "id": "9605cf84",
   "metadata": {},
   "outputs": [
    {
     "data": {
      "text/plain": [
       "array([ 1000.        ,  2154.43469003,  4641.58883361, 10000.        ])"
      ]
     },
     "execution_count": 29,
     "metadata": {},
     "output_type": "execute_result"
    }
   ],
   "source": [
    "np.logspace(3.0, 4.0, num=4)"
   ]
  },
  {
   "cell_type": "code",
   "execution_count": 30,
   "id": "73885721",
   "metadata": {},
   "outputs": [
    {
     "data": {
      "text/plain": [
       "16"
      ]
     },
     "execution_count": 30,
     "metadata": {},
     "output_type": "execute_result"
    }
   ],
   "source": [
    "x = np.array([1,2,3], dtype=np.complex128)\n",
    "x.itemsize"
   ]
  },
  {
   "cell_type": "code",
   "execution_count": 31,
   "id": "428cec23",
   "metadata": {},
   "outputs": [
    {
     "name": "stdout",
     "output_type": "stream",
     "text": [
      "[[1 2 3]\n",
      " [4 5 6]]\n"
     ]
    }
   ],
   "source": [
    "## Slice\n",
    "import numpy as np\n",
    "e  = np.array([(1,2,3), (4,5,6)])\n",
    "print(e)"
   ]
  },
  {
   "cell_type": "code",
   "execution_count": 32,
   "id": "f54c2210",
   "metadata": {},
   "outputs": [
    {
     "name": "stdout",
     "output_type": "stream",
     "text": [
      "First row: [1 2 3]\n",
      "Second row: [4 5 6]\n"
     ]
    }
   ],
   "source": [
    "## First column\n",
    "print('First row:', e[0])\n",
    "\n",
    "## Second col\n",
    "print('Second row:', e[1])"
   ]
  },
  {
   "cell_type": "code",
   "execution_count": 33,
   "id": "c30c0b31",
   "metadata": {},
   "outputs": [
    {
     "name": "stdout",
     "output_type": "stream",
     "text": [
      "Second column: [2 5]\n"
     ]
    }
   ],
   "source": [
    "print('Second column:', e[:,1])"
   ]
  },
  {
   "cell_type": "code",
   "execution_count": 34,
   "id": "e9ae117d",
   "metadata": {},
   "outputs": [
    {
     "name": "stdout",
     "output_type": "stream",
     "text": [
      "[4 5]\n"
     ]
    }
   ],
   "source": [
    "## Second Row, two values\n",
    "print(e[1, :2])"
   ]
  },
  {
   "cell_type": "code",
   "execution_count": 35,
   "id": "e34d88ad",
   "metadata": {},
   "outputs": [
    {
     "name": "stdout",
     "output_type": "stream",
     "text": [
      "[5.38188816 4.76896343 5.45779028 4.37372777 5.72509982 4.62703932\n",
      " 5.85069038 5.00283737 5.22664306 4.83915996]\n"
     ]
    }
   ],
   "source": [
    "import numpy as np\n",
    "normal_array = np.random.normal(5, 0.5, 10)\n",
    "print(normal_array)"
   ]
  },
  {
   "cell_type": "code",
   "execution_count": 36,
   "id": "12ed7a8e",
   "metadata": {},
   "outputs": [
    {
     "name": "stdout",
     "output_type": "stream",
     "text": [
      "4.373727770281195\n",
      "5.850690381062281\n",
      "5.1253839549723175\n",
      "5.114740213775935\n",
      "0.4593018767218636\n"
     ]
    }
   ],
   "source": [
    "### Min \n",
    "print(np.min(normal_array))\n",
    "\n",
    "### Max \n",
    "print(np.max(normal_array))\n",
    "\n",
    "### Mean \n",
    "print(np.mean(normal_array))\n",
    "\n",
    "### Median\n",
    "print(np.median(normal_array))\n",
    "\n",
    "### Sd\n",
    "print(np.std(normal_array))"
   ]
  },
  {
   "cell_type": "code",
   "execution_count": 37,
   "id": "3e5ceb02",
   "metadata": {},
   "outputs": [
    {
     "data": {
      "text/plain": [
       "14"
      ]
     },
     "execution_count": 37,
     "metadata": {},
     "output_type": "execute_result"
    }
   ],
   "source": [
    "## Linear algebra\n",
    "### Dot product: product of two arrays\n",
    "f = np.array([1,2])\n",
    "g = np.array([4,5])\n",
    "### 1*4+2*5\n",
    "np.dot(f, g)"
   ]
  },
  {
   "cell_type": "code",
   "execution_count": 38,
   "id": "8f70edd6",
   "metadata": {},
   "outputs": [
    {
     "data": {
      "text/plain": [
       "array([[19, 22],\n",
       "       [43, 50]])"
      ]
     },
     "execution_count": 38,
     "metadata": {},
     "output_type": "execute_result"
    }
   ],
   "source": [
    "### Matmul: matruc product of two arrays\n",
    "h = [[1,2],[3,4]] \n",
    "i = [[5,6],[7,8]] \n",
    "### 1*5+2*7 = 19\n",
    "np.matmul(h, i)"
   ]
  },
  {
   "cell_type": "code",
   "execution_count": 39,
   "id": "6246d16c",
   "metadata": {},
   "outputs": [
    {
     "name": "stdout",
     "output_type": "stream",
     "text": [
      "[[ 0.17647059 -0.00326797 -0.02287582]\n",
      " [ 0.05882353 -0.13071895  0.08496732]\n",
      " [-0.11764706  0.1503268   0.05228758]]\n"
     ]
    }
   ],
   "source": [
    "# Taking a 3 * 3 matrix\n",
    "A = np.array([[6, 1, 1],\n",
    "              [4, -2, 5],\n",
    "              [2, 8, 7]])\n",
    "  \n",
    "# Calculating the inverse of the matrix\n",
    "print(np.linalg.inv(A))"
   ]
  },
  {
   "cell_type": "code",
   "execution_count": 40,
   "id": "a6c13a85",
   "metadata": {},
   "outputs": [
    {
     "name": "stdout",
     "output_type": "stream",
     "text": [
      "Numpy Matrix is:\n",
      "[[50 29]\n",
      " [30 44]]\n",
      "\n",
      "Determinant of given 2X2 matrix:\n",
      "1330\n"
     ]
    }
   ],
   "source": [
    "# creating a 2X2 Numpy matrix\n",
    "n_array = np.array([[50, 29], [30, 44]])\n",
    "  \n",
    "# Displaying the Matrix\n",
    "print(\"Numpy Matrix is:\")\n",
    "print(n_array)\n",
    "  \n",
    "# calculating the determinant of matrix\n",
    "det = np.linalg.det(n_array)\n",
    "  \n",
    "print(\"\\nDeterminant of given 2X2 matrix:\")\n",
    "print(int(det))"
   ]
  },
  {
   "cell_type": "code",
   "execution_count": 41,
   "id": "2fc609a8",
   "metadata": {},
   "outputs": [
    {
     "data": {
      "text/plain": [
       "3"
      ]
     },
     "execution_count": 41,
     "metadata": {},
     "output_type": "execute_result"
    }
   ],
   "source": [
    "# Let's create a square matrix (NxN matrix)\n",
    "mx = np.array([[1,1,1],[0,1,2],[1,5,3]])\n",
    "\n",
    "# Let's get rank of matrix \n",
    "np.linalg.matrix_rank(mx)"
   ]
  },
  {
   "cell_type": "code",
   "execution_count": 42,
   "id": "bec4c28a",
   "metadata": {},
   "outputs": [
    {
     "name": "stdout",
     "output_type": "stream",
     "text": [
      "[ 3.62093727e+01 -2.20937271e+00 -2.57831463e-15  5.57979826e-17] [[-0.15115432  0.72704996  0.51747505 -0.06588506]\n",
      " [-0.34923733  0.28320876 -0.82375673 -0.31743721]\n",
      " [-0.54732033 -0.16063243  0.09508831  0.83252961]\n",
      " [-0.74540333 -0.60447363  0.21119337 -0.44920733]]\n"
     ]
    }
   ],
   "source": [
    "example_matrix = np.array([\n",
    "  [1,2,3,4],\n",
    "  [5,6,7,8],\n",
    "  [9,10,11,12],\n",
    "  [13,14,15,16]\n",
    "])\n",
    "eigenvalues, eigenvectors = np.linalg.eig(example_matrix)\n",
    "print(eigenvalues, eigenvectors)"
   ]
  },
  {
   "cell_type": "code",
   "execution_count": 43,
   "id": "16578ce5",
   "metadata": {},
   "outputs": [
    {
     "name": "stdout",
     "output_type": "stream",
     "text": [
      "[[6 4]]\n"
     ]
    }
   ],
   "source": [
    "# make matrix with numpy\n",
    "gfg = np.matrix('[6, 2; 3, 4]')\n",
    "         \n",
    "# applying matrix.diagonal() method\n",
    "diag = gfg.diagonal()\n",
    "   \n",
    "print(diag)"
   ]
  },
  {
   "cell_type": "code",
   "execution_count": 44,
   "id": "1d90759e",
   "metadata": {},
   "outputs": [
    {
     "name": "stdout",
     "output_type": "stream",
     "text": [
      "[[ 4 12]\n",
      " [ 1  3]]\n"
     ]
    }
   ],
   "source": [
    "# make matrix with numpy\n",
    "gfg = np.matrix('[4, 1; 12, 3]')\n",
    "              \n",
    "# applying matrix.transpose() method\n",
    "trans = gfg.transpose()\n",
    "    \n",
    "print(trans)"
   ]
  },
  {
   "cell_type": "code",
   "execution_count": 45,
   "id": "946a55f3",
   "metadata": {},
   "outputs": [
    {
     "name": "stdout",
     "output_type": "stream",
     "text": [
      "[[7]]\n"
     ]
    }
   ],
   "source": [
    "# make matrix with numpy\n",
    "gfg = np.matrix('[4, 1; 12, 3]')\n",
    "              \n",
    "# applying matrix.trace() method\n",
    "tracem = gfg.trace()\n",
    "    \n",
    "print(tracem)"
   ]
  },
  {
   "cell_type": "code",
   "execution_count": null,
   "id": "db7fef31",
   "metadata": {},
   "outputs": [],
   "source": []
  }
 ],
 "metadata": {
  "kernelspec": {
   "display_name": "Python 3",
   "language": "python",
   "name": "python3"
  },
  "language_info": {
   "codemirror_mode": {
    "name": "ipython",
    "version": 3
   },
   "file_extension": ".py",
   "mimetype": "text/x-python",
   "name": "python",
   "nbconvert_exporter": "python",
   "pygments_lexer": "ipython3",
   "version": "3.8.8"
  }
 },
 "nbformat": 4,
 "nbformat_minor": 5
}
